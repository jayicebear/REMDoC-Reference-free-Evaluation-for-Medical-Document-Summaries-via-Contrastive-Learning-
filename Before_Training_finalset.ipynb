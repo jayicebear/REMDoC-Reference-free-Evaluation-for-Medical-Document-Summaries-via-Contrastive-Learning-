{
 "cells": [
  {
   "cell_type": "code",
   "execution_count": 1,
   "id": "e0cbc181",
   "metadata": {},
   "outputs": [],
   "source": [
    "import numpy as np \n",
    "import pandas as pd \n",
    "from datasets import load_dataset\n",
    "import torch\n",
    "\n",
    "# bio literature review 데이터셋 로드\n",
    "dataset = load_dataset('allenai/mslr2022', 'cochrane')\n",
    "\n",
    "target = []\n",
    "for i in range(len(dataset['train'])):\n",
    "    target.append(dataset['train'][i]['target'])"
   ]
  },
  {
   "cell_type": "code",
   "execution_count": 2,
   "id": "fd0b9042",
   "metadata": {},
   "outputs": [],
   "source": [
    "import json\n",
    "with open('Test_data/one_shuffled.json','r') as f :\n",
    "    one=json.load(f)"
   ]
  },
  {
   "cell_type": "code",
   "execution_count": 3,
   "id": "79ac1a66",
   "metadata": {},
   "outputs": [],
   "source": [
    "import json\n",
    "with open('Test_data/Three_shuffled.json','r') as f :\n",
    "    three=json.load(f)"
   ]
  },
  {
   "cell_type": "code",
   "execution_count": 4,
   "id": "c05c7a58",
   "metadata": {},
   "outputs": [],
   "source": [
    "import json\n",
    "with open('Test_data/Five_shuffled.json','r') as f :\n",
    "    five=json.load(f)"
   ]
  },
  {
   "cell_type": "code",
   "execution_count": 5,
   "id": "b565db70",
   "metadata": {},
   "outputs": [],
   "source": [
    "import json\n",
    "with open('Test_data/Seven_shuffled.json','r') as f :\n",
    "    seven=json.load(f)"
   ]
  },
  {
   "cell_type": "code",
   "execution_count": 6,
   "id": "74a8b457",
   "metadata": {},
   "outputs": [
    {
     "data": {
      "text/plain": [
       "'cuda'"
      ]
     },
     "execution_count": 6,
     "metadata": {},
     "output_type": "execute_result"
    }
   ],
   "source": [
    "import torch\n",
    "device = \"cuda\" if torch.cuda.is_available() else \"cpu\"\n",
    "device"
   ]
  },
  {
   "cell_type": "code",
   "execution_count": 9,
   "id": "bb45d170",
   "metadata": {},
   "outputs": [
    {
     "data": {
      "text/plain": [
       "3752"
      ]
     },
     "execution_count": 9,
     "metadata": {},
     "output_type": "execute_result"
    }
   ],
   "source": [
    "len(one)"
   ]
  },
  {
   "cell_type": "code",
   "execution_count": 19,
   "id": "57a468f8",
   "metadata": {},
   "outputs": [],
   "source": [
    "from sentence_transformers import SentenceTransformer, util\n",
    "import torch\n",
    "from scipy import stats\n",
    "import numpy\n",
    "\n",
    "\n",
    "model = SentenceTransformer('pritamdeka/S-PubMedBert-MS-MARCO-SCIFACT')\n",
    "model_score = []\n",
    "model_list = []\n",
    "\n",
    "\n",
    "for i in range(len(seven)):\n",
    "    try:\n",
    "        embedding1 = model.encode(seven[i])\n",
    "        embedding2 = model.encode(target[i])\n",
    "        cosine_similarity = util.pytorch_cos_sim(embedding1, embedding2)\n",
    "        model_score.append(cosine_similarity.item())\n",
    "        model_list.append(i)\n",
    "    except:\n",
    "        pass"
   ]
  },
  {
   "cell_type": "code",
   "execution_count": 12,
   "id": "6d900fb8",
   "metadata": {},
   "outputs": [],
   "source": [
    "one_list = []\n",
    "for i in range(len(one)):\n",
    "    try:\n",
    "        one_list.append((one[i],target[i],model_score[i]))\n",
    "    except:\n",
    "        pass "
   ]
  },
  {
   "cell_type": "code",
   "execution_count": 16,
   "id": "fdf77b45",
   "metadata": {},
   "outputs": [],
   "source": [
    "three_list = []\n",
    "for i in range(len(one)):\n",
    "    try:\n",
    "        three_list.append((three[i],target[i],model_score[i]))\n",
    "    except:\n",
    "        pass "
   ]
  },
  {
   "cell_type": "code",
   "execution_count": 18,
   "id": "5aa4eff8",
   "metadata": {},
   "outputs": [],
   "source": [
    "five_list = []\n",
    "for i in range(len(one)):\n",
    "    try:\n",
    "        five_list.append((five[i],target[i],model_score[i]))\n",
    "    except:\n",
    "        pass "
   ]
  },
  {
   "cell_type": "code",
   "execution_count": 20,
   "id": "4a9f1cf7",
   "metadata": {},
   "outputs": [],
   "source": [
    "seven_list = []\n",
    "for i in range(len(one)):\n",
    "    try:\n",
    "        seven_list.append((seven[i],target[i],model_score[i]))\n",
    "    except:\n",
    "        pass "
   ]
  },
  {
   "cell_type": "code",
   "execution_count": 21,
   "id": "9328bea9",
   "metadata": {},
   "outputs": [],
   "source": [
    "import json\n",
    "with open('Test_data/one_ner_list.json', 'w') as json_file:\n",
    "    json.dump(one_list, json_file)"
   ]
  },
  {
   "cell_type": "code",
   "execution_count": 22,
   "id": "63531dac",
   "metadata": {},
   "outputs": [],
   "source": [
    "import json\n",
    "with open('Test_data/three_ner_list.json', 'w') as json_file:\n",
    "    json.dump(three_list, json_file)"
   ]
  },
  {
   "cell_type": "code",
   "execution_count": 23,
   "id": "23cf7e2a",
   "metadata": {},
   "outputs": [],
   "source": [
    "import json\n",
    "with open('Test_data/five_ner_list.json', 'w') as json_file:\n",
    "    json.dump(five_list, json_file)"
   ]
  },
  {
   "cell_type": "code",
   "execution_count": 24,
   "id": "8d1383ad",
   "metadata": {},
   "outputs": [],
   "source": [
    "import json\n",
    "with open('Test_data/seven_ner_list.json', 'w') as json_file:\n",
    "    json.dump(seven_list, json_file)"
   ]
  },
  {
   "cell_type": "code",
   "execution_count": null,
   "id": "d2209098",
   "metadata": {},
   "outputs": [],
   "source": []
  }
 ],
 "metadata": {
  "kernelspec": {
   "display_name": "MDsum",
   "language": "python",
   "name": "mdsum"
  },
  "language_info": {
   "codemirror_mode": {
    "name": "ipython",
    "version": 3
   },
   "file_extension": ".py",
   "mimetype": "text/x-python",
   "name": "python",
   "nbconvert_exporter": "python",
   "pygments_lexer": "ipython3",
   "version": "3.11.5"
  }
 },
 "nbformat": 4,
 "nbformat_minor": 5
}
